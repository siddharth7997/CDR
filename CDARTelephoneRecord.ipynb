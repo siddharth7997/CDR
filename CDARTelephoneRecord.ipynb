{
 "cells": [
  {
   "cell_type": "markdown",
   "metadata": {},
   "source": [
    "## To predict the loaction of a subject based on the call records."
   ]
  },
  {
   "cell_type": "code",
   "execution_count": 1,
   "metadata": {
    "collapsed": true
   },
   "outputs": [],
   "source": [
    "#to find some kind of geogrphical pattern for a person in some are\n",
    "#source:CDR Data"
   ]
  },
  {
   "cell_type": "code",
   "execution_count": 2,
   "metadata": {
    "collapsed": true
   },
   "outputs": [],
   "source": [
    "import pandas as pd\n",
    "import numpy as np"
   ]
  },
  {
   "cell_type": "code",
   "execution_count": 3,
   "metadata": {
    "collapsed": false
   },
   "outputs": [
    {
     "name": "stdout",
     "output_type": "stream",
     "text": [
      "Index([u'NICKNAME', u'STARTDATE', u'STARTTIME', u'AREADESCRIPTION'], dtype='object')\n",
      "  NICKNAME   STARTDATE   STARTTIME                  AREADESCRIPTION\n",
      "0   Jackal  01/01/2014  5:40:06 AM  BSC80:20_MHBD_AnuComplx_WL2033A\n",
      "1   Jackal  01/01/2014  5:51:43 AM  BSC80:20_MHBD_AnuComplx_WL2033A\n",
      "2   Jackal  01/01/2014  7:13:29 AM  BSC80:20_MHBD_AnuComplx_WL2033A\n",
      "3   Jackal  01/01/2014  2:31:08 PM  BSC80:20_MHBD_AnuComplx_WL2033A\n",
      "4   Jackal  01/01/2014  2:40:11 PM  BSC80:20_MHBD_AnuComplx_WL2033A\n"
     ]
    }
   ],
   "source": [
    "data = pd.read_csv(\"tryit.csv\", sep = \",\")\n",
    "#print data.head()\n",
    "#eliminating useless information\n",
    "data=data.drop(['OTHER','PHONE','TYPE','DURATION','IMEINUMBER','OTYPE','AZIMUTH','OPERATOR','CELLTOWERID','STATE','LAT','LONG'],axis=1)\n",
    "print data.columns\n",
    "print data.head()"
   ]
  },
  {
   "cell_type": "code",
   "execution_count": 4,
   "metadata": {
    "collapsed": false
   },
   "outputs": [
    {
     "name": "stdout",
     "output_type": "stream",
     "text": [
      "['Jackal' 'Red Fox' 'King Pin' 'Blackbeard' 'Peacock']\n"
     ]
    }
   ],
   "source": [
    "#unique candidates in data\n",
    "print data.NICKNAME.unique()"
   ]
  },
  {
   "cell_type": "markdown",
   "metadata": {},
   "source": [
    "<h1>Models to predict <i>JACKAL's</i> LOCATION</h1>"
   ]
  },
  {
   "cell_type": "code",
   "execution_count": 5,
   "metadata": {
    "collapsed": false
   },
   "outputs": [
    {
     "name": "stdout",
     "output_type": "stream",
     "text": [
      "distinct Location visited by Jackal::\n",
      "  NICKNAME   STARTDATE   STARTTIME                  AREADESCRIPTION\n",
      "0   Jackal  01/01/2014  5:40:06 AM  BSC80:20_MHBD_AnuComplx_WL2033A\n",
      "1   Jackal  01/01/2014  5:51:43 AM  BSC80:20_MHBD_AnuComplx_WL2033A\n",
      "2   Jackal  01/01/2014  7:13:29 AM  BSC80:20_MHBD_AnuComplx_WL2033A\n",
      "3   Jackal  01/01/2014  2:31:08 PM  BSC80:20_MHBD_AnuComplx_WL2033A\n",
      "4   Jackal  01/01/2014  2:40:11 PM  BSC80:20_MHBD_AnuComplx_WL2033A\n"
     ]
    }
   ],
   "source": [
    "#print data[['AREADESCRIPTION','LAT','LONG']].drop_duplicates()\n",
    "mew=data.loc[data['NICKNAME']=='Jackal'].loc[data['AREADESCRIPTION']!='NOT AVAILABLE']\n",
    "print \"distinct Location visited by Jackal::\\n\",mew.head()"
   ]
  },
  {
   "cell_type": "code",
   "execution_count": 6,
   "metadata": {
    "collapsed": false
   },
   "outputs": [],
   "source": [
    "from datetime import date\n",
    "import calendar\n",
    "import re\n",
    "mew['TIME']='__'\n",
    "mew['DAY']='__'\n",
    "#print mew\n",
    "for index, row in mew.iterrows():\n",
    "    #print row['STARTDATE']\n",
    "    d,m,y=map(int,row['STARTDATE'].split('/'))\n",
    "    #print date(y,m,d).weekday()\n",
    "    row['DAY']=date(y,m,d).weekday()\n",
    "    g=re.split(':| ',row['STARTTIME'])\n",
    "    if g[3]=='AM' and g[0]!='12':\n",
    "        row['TIME']=int(g[0])\n",
    "        \n",
    "    elif g[3]=='AM' and g[0]=='12':\n",
    "        row['TIME']=0\n",
    "        \n",
    "    elif g[3]=='PM' and g[0]=='12':\n",
    "        row['TIME']=12\n",
    "        \n",
    "    else:\n",
    "        row['TIME']=int(g[0])+12        \n",
    "    \n"
   ]
  },
  {
   "cell_type": "code",
   "execution_count": 7,
   "metadata": {
    "collapsed": false
   },
   "outputs": [
    {
     "name": "stdout",
     "output_type": "stream",
     "text": [
      "   NICKNAME   STARTDATE    STARTTIME                  AREADESCRIPTION TIME DAY\n",
      "0    Jackal  01/01/2014   5:40:06 AM  BSC80:20_MHBD_AnuComplx_WL2033A    5   2\n",
      "1    Jackal  01/01/2014   5:51:43 AM  BSC80:20_MHBD_AnuComplx_WL2033A    5   2\n",
      "2    Jackal  01/01/2014   7:13:29 AM  BSC80:20_MHBD_AnuComplx_WL2033A    7   2\n",
      "3    Jackal  01/01/2014   2:31:08 PM  BSC80:20_MHBD_AnuComplx_WL2033A   14   2\n",
      "4    Jackal  01/01/2014   2:40:11 PM  BSC80:20_MHBD_AnuComplx_WL2033A   14   2\n",
      "5    Jackal  01/01/2014   7:26:21 PM  BSC80:20_MHBD_AnuComplx_WL2033A   19   2\n",
      "6    Jackal  02/01/2014   6:34:54 AM  BSC80:20_MHBD_AnuComplx_WL2033A    6   3\n",
      "7    Jackal  02/01/2014   8:00:50 AM  BSC80:20_MHBD_AnuComplx_WL2033A    8   3\n",
      "8    Jackal  02/01/2014   7:46:02 PM        BSC80:33_Parakala_WL2039A   19   3\n",
      "9    Jackal  02/01/2014   7:47:57 PM        BSC80:33_Parakala_WL2039A   19   3\n",
      "10   Jackal  03/01/2014   7:39:20 AM  BSC80:20_MHBD_AnuComplx_WL2033A    7   4\n",
      "11   Jackal  03/01/2014  10:33:46 AM  BSC80:57_MHBD_GovtHsptl_WL2079A   10   4\n",
      "12   Jackal  03/01/2014   4:22:59 PM   BSC80:21_MHBD_TeleExge_WL2003A   16   4\n",
      "13   Jackal  03/01/2014   7:52:44 PM  BSC80:57_MHBD_GovtHsptl_WL2079A   19   4\n",
      "14   Jackal  03/01/2014  10:48:01 PM  BSC80:20_MHBD_AnuComplx_WL2033A   22   4\n"
     ]
    }
   ],
   "source": [
    "print mew[:15]"
   ]
  },
  {
   "cell_type": "code",
   "execution_count": 8,
   "metadata": {
    "collapsed": false
   },
   "outputs": [],
   "source": [
    "mew=mew.drop(['STARTDATE','STARTTIME','NICKNAME'],axis=1)\n",
    "mew=mew[['DAY','TIME','AREADESCRIPTION']]"
   ]
  },
  {
   "cell_type": "code",
   "execution_count": 9,
   "metadata": {
    "collapsed": false
   },
   "outputs": [
    {
     "name": "stdout",
     "output_type": "stream",
     "text": [
      "  DAY TIME                  AREADESCRIPTION\n",
      "0   2    5  BSC80:20_MHBD_AnuComplx_WL2033A\n",
      "1   2    5  BSC80:20_MHBD_AnuComplx_WL2033A\n",
      "2   2    7  BSC80:20_MHBD_AnuComplx_WL2033A\n",
      "3   2   14  BSC80:20_MHBD_AnuComplx_WL2033A\n",
      "4   2   14  BSC80:20_MHBD_AnuComplx_WL2033A\n"
     ]
    }
   ],
   "source": [
    "#deleted additional features....... like date,time bcoz we already got genaralised \n",
    "print mew.head()"
   ]
  },
  {
   "cell_type": "code",
   "execution_count": 10,
   "metadata": {
    "collapsed": true
   },
   "outputs": [],
   "source": [
    "from IPython.core.display import HTML"
   ]
  },
  {
   "cell_type": "markdown",
   "metadata": {},
   "source": [
    "<h1>done with preprocessing </h1>"
   ]
  },
  {
   "cell_type": "code",
   "execution_count": 11,
   "metadata": {
    "collapsed": false
   },
   "outputs": [
    {
     "name": "stdout",
     "output_type": "stream",
     "text": [
      "BSC80:20_MHBD_AnuComplx_WL2033A       324\n",
      "BSC80:57_MHBD_GovtHsptl_WL2079A        64\n",
      "BSC80:21_MHBD_TeleExge_WL2003A         20\n",
      "BSC77:09_TNGOBLDG_WL2114A              14\n",
      "BSC80:38_Kothaguda_WL2076A             14\n",
      "BSC80:26_Gudur_WL2028A                 13\n",
      "BSC80:51_Narsampet2_WL2084A            13\n",
      "BSC80:28_NarsampetaTE_WL2004A          11\n",
      "BSC77:18_Tadwai_HW_WL2045A              9\n",
      "BSC77:20_Medaram_EM_WL2251B             9\n",
      "BSC77:23_Tirumalagandi_WL2135B          9\n",
      "BSC77:02_Kambhalapalle_WL2168B          8\n",
      "BSC80:17_Mulugu_TE_WL2035A              8\n",
      "BSC80:36_Khanapur_WL2074A               6\n",
      "BSC01:32_Apparajupally_WL2138B          6\n",
      "BSC80:08_Pasra_WL2041A                  4\n",
      "BSC80:56_MondraiH2M_WL2264C             4\n",
      "BSC01:33_Ootai_WL2198A                  4\n",
      "BSC77:14_EturnagaramBS_WL2228A          3\n",
      "BSC77:28_Kesamudram_vlg_WL2136C         2\n",
      "BSC72:28_Laxettpet_AD2014A              2\n",
      "BSC80:59_Mallampalle_WL2257B            2\n",
      "BSC77:25_MDRM_Jakaram_WL2274C           2\n",
      "BSC77:19_Narlapur_WL2252A               2\n",
      "BSC80:43_Chelwai_WL2062A                2\n",
      "BSC77:10_Mangapet_WL2034A               2\n",
      "BSC80:47_Thorrur2_NB_WL2109A            2\n",
      "BSC80:33_Parakala_WL2039A               2\n",
      "BSC72:02_MNCL_DTO_AD2038A               1\n",
      "BSC80:41_Nallabelly_WL2083B             1\n",
      "BSC80:60_Oorugonda_WL2256C              1\n",
      "BSC80:13_Atmakur_WL2046C                1\n",
      "BSC80:35_Girnibavi_WL2068B              1\n",
      "BSC01:11_Papaiahpeta_WL2200B            1\n",
      "BSC77:07_Enugal_WL2152C:                1\n",
      "BSC72:43_Srirampur_AD2046A              1\n",
      "111_17433_Koyyur_PS_KA2112, AP          1\n",
      "BSC01:19_Muripirala_WL2184C             1\n",
      "BSC80:42_Venkatapur_WL2093C             1\n",
      "BSC77:22_Edullapalli_WL2134C            1\n",
      "BSC17:06_WGL_ReddyClny_WL2021A          1\n",
      "111_18951_Manthani_VIOM_KA5015, AP      1\n",
      "BSC80:24_Kesamudram_WL2019A             1\n",
      "BSC17:18_WGL_JayaHosptl_WL2050A         1\n",
      "Name: AREADESCRIPTION, dtype: int64\n"
     ]
    }
   ],
   "source": [
    "print mew['AREADESCRIPTION'].value_counts()"
   ]
  },
  {
   "cell_type": "code",
   "execution_count": 12,
   "metadata": {
    "collapsed": false
   },
   "outputs": [
    {
     "name": "stdout",
     "output_type": "stream",
     "text": [
      "[[26  0  0 ...,  0  0  0]\n",
      " [26  0  0 ...,  0  0  0]\n",
      " [26  0  0 ...,  0  0  0]\n",
      " ..., \n",
      " [26  0  0 ...,  0  0  0]\n",
      " [11  0  0 ...,  0  0  0]\n",
      " [41  1  0 ...,  0  0  0]]\n",
      "[26 26 26 26 26 26 26 26 31 31 26 41 27 41 26 41 41 26  4 34 26 26 26 26 26\n",
      " 27 26 26 26 26 26 26 26 26  5 30  2 29 26 26 26 27 26 26 26 26 26 26 26 26\n",
      " 26 26 26 26 26 26 26 26 41 26 27 26 27 26 26 26  0  1 10  8  9  9 26 26 30\n",
      " 21 23 18 26 26 30 26 26 13 13 13 13 13 13 26 26 26 26 26 26 26 26 27 37 41\n",
      " 24 18 16 13 27 41  6 26 26 25 25 16 16 16 16 16 26 41 41 13 13 13 13 17 17\n",
      " 18 18 18 18 18 18 26 22 22  7 13 26 26 26  4 41 41 43 13 32 26 26 26 26 26\n",
      " 26 26 27 41 26 30 15 15 26 26 26 13 34 29  4 25 25 25 25 41 26 29 26 41 29\n",
      " 29 26 26 41 27 41 29 29  4 41 26 39 39 39 39 26  4 29 29 29 41 41 36 23 16\n",
      " 26 12 27 26 26 26 26 26 26 35 41 41 41 39 33 26 26 26 26 26 26 26 26 26 26\n",
      " 26 26 26 26 26 26 26 26 26 26 26 26 26 26 26 26 34 26 26 11 26 39 26 11 11\n",
      " 11 11 34 26 26 26 26 26 26 26 26 26 38 38 26 26 26 26 26 26 26 26 26 26 27\n",
      " 26 26 29 30 30 30 26 26 26 33 26 26 25 41 41 41 41 26 26 26 26 23 30 26 26\n",
      " 26 41 41 27 26 26 41 42 14 25 39 34 34 20 26 26 26 26 39 34 34 34 34 34 26\n",
      " 26 26 26 26 15 26 33 20 41 27 26 26 26 26 18 26 39 26 26 26 26 26 26 26 42\n",
      " 23 16 16 26  5  5  5 34 26 29 29 33  3 26 26 26 11 30 33 34 20 19 26 41 26\n",
      " 26 26 26 39 26 41 26 41 26 11 33 34 27 27 26 26 26 39 39 39 30 20 20 37 30\n",
      " 20 20 20 20 26 27 26 26 14 26 26 26 26 26 26 26 26  4 26 26 21 26 26 26 26\n",
      " 26 26 26 26 26 26 26 26 26 26 26 40 40 40 40 26 27 26 26 26 28 26 26 26 26\n",
      " 26 26 26 26 26 27 26 26 26 26 26 26 26 26 26 26 26 26 26 26 26 26 26 26 26\n",
      " 26 26 26 26 26 26 26 26 41 41 41 26 26 26 26 26 26 26 26 41 26 26 26 26 26\n",
      " 26 26 26 26 26 26 26 26 26 26 26 26 26 26 26 26 26 26 26 26 26 26 26 26 26\n",
      " 26 26 26 26 26 26 26 26 26 26 26 27 27 26 26 26 26 26 26 26 26 26 41 41 41\n",
      " 41 41 41 41 41 41 41 41 41 41 41 41 41 41 41 41 41 41 41 41 41 41 41 26 26\n",
      " 11 41]\n"
     ]
    }
   ],
   "source": [
    "from sklearn.preprocessing import LabelEncoder\n",
    "\n",
    "lb_make = LabelEncoder()\n",
    "\n",
    "mew['AREADESCRIPTION']=lb_make.fit_transform(mew['AREADESCRIPTION'])\n",
    "\n",
    "\n",
    "dummies = pd.get_dummies(mew[\"DAY\"],prefix=\"DAY\")\n",
    "mew      = mew.join(dummies)\n",
    "\n",
    "dummies = pd.get_dummies(mew[\"TIME\"],prefix=\"TIME\")\n",
    "mew      = mew.join(dummies)\n",
    "\n",
    "\n",
    "del mew['DAY']\n",
    "del mew['TIME']\n",
    "\n",
    "mew_c=mew.copy()\n",
    "mew_c.drop(['AREADESCRIPTION'],axis=1)\n",
    "\n",
    "\n",
    "X=mew_c.values\n",
    "print X\n",
    "y=mew['AREADESCRIPTION'].values\n",
    "print y"
   ]
  },
  {
   "cell_type": "markdown",
   "metadata": {},
   "source": [
    "<h1>Lets start with Support Vector Machine<h2>\n"
   ]
  },
  {
   "cell_type": "code",
   "execution_count": 13,
   "metadata": {
    "collapsed": false
   },
   "outputs": [],
   "source": [
    "from sklearn import svm\n",
    "clf=svm.SVC(gamma=0.05, C=15)"
   ]
  },
  {
   "cell_type": "code",
   "execution_count": 14,
   "metadata": {
    "collapsed": true
   },
   "outputs": [],
   "source": [
    "from sklearn.model_selection import train_test_split\n",
    "X_train, X_test, y_train, y_test = train_test_split(X, y, test_size=0.20, random_state=42)"
   ]
  },
  {
   "cell_type": "code",
   "execution_count": 15,
   "metadata": {
    "collapsed": false
   },
   "outputs": [
    {
     "name": "stderr",
     "output_type": "stream",
     "text": [
      "/home/siddharth/miniconda2/lib/python2.7/site-packages/sklearn/model_selection/_split.py:581: Warning: The least populated class in y has only 1 members, which is too few. The minimum number of groups for any class cannot be less than n_splits=27.\n",
      "  % (min_groups, self.n_splits)), Warning)\n"
     ]
    },
    {
     "name": "stdout",
     "output_type": "stream",
     "text": [
      "Cross Validation Score : 98.2568522401 %\n"
     ]
    }
   ],
   "source": [
    "from sklearn.model_selection import cross_val_score\n",
    "\n",
    "scores = cross_val_score(clf,X_train,y_train, cv=27)\n",
    "print \"Cross Validation Score :\",scores.mean()*100,\"%\""
   ]
  },
  {
   "cell_type": "code",
   "execution_count": 16,
   "metadata": {
    "collapsed": false
   },
   "outputs": [
    {
     "name": "stdout",
     "output_type": "stream",
     "text": [
      "Test score, 0.965517241379 %\n"
     ]
    }
   ],
   "source": [
    "clf.fit(X_train,y_train)\n",
    "print \"Test score,\",clf.score(X_test,y_test),\"%\""
   ]
  },
  {
   "cell_type": "markdown",
   "metadata": {},
   "source": [
    "<h1>Example Prediction Using SVM</h1>"
   ]
  },
  {
   "cell_type": "code",
   "execution_count": 17,
   "metadata": {
    "collapsed": false
   },
   "outputs": [
    {
     "name": "stdout",
     "output_type": "stream",
     "text": [
      "example prediction:Jackal's position\n",
      "['BSC72:43_Srirampur_AD2046A']\n",
      "\n",
      "\n",
      "\n",
      "example prediction:Jackal's position-2\n",
      "['BSC80:20_MHBD_AnuComplx_WL2033A']\n"
     ]
    },
    {
     "name": "stderr",
     "output_type": "stream",
     "text": [
      "/home/siddharth/miniconda2/lib/python2.7/site-packages/sklearn/utils/validation.py:395: DeprecationWarning: Passing 1d arrays as data is deprecated in 0.17 and will raise ValueError in 0.19. Reshape your data either using X.reshape(-1, 1) if your data has a single feature or X.reshape(1, -1) if it contains a single sample.\n",
      "  DeprecationWarning)\n",
      "/home/siddharth/miniconda2/lib/python2.7/site-packages/sklearn/utils/validation.py:395: DeprecationWarning: Passing 1d arrays as data is deprecated in 0.17 and will raise ValueError in 0.19. Reshape your data either using X.reshape(-1, 1) if your data has a single feature or X.reshape(1, -1) if it contains a single sample.\n",
      "  DeprecationWarning)\n"
     ]
    }
   ],
   "source": [
    "import numpy\n",
    "print \"example prediction:Jackal's position\"\n",
    "print lb_make.inverse_transform(clf.predict(X_train[0]))\n",
    "print \"\\n\\n\"\n",
    "\n",
    "print \"example prediction:Jackal's position-2\"\n",
    "print lb_make.inverse_transform(clf.predict(X_train[1]))"
   ]
  },
  {
   "cell_type": "markdown",
   "metadata": {},
   "source": [
    "<h1>Lets try Naive Bayes</h1>"
   ]
  },
  {
   "cell_type": "code",
   "execution_count": 18,
   "metadata": {
    "collapsed": true
   },
   "outputs": [],
   "source": [
    "from sklearn.naive_bayes import GaussianNB\n",
    "gnb = GaussianNB()"
   ]
  },
  {
   "cell_type": "code",
   "execution_count": 19,
   "metadata": {
    "collapsed": false
   },
   "outputs": [
    {
     "data": {
      "text/plain": [
       "GaussianNB(priors=None)"
      ]
     },
     "execution_count": 19,
     "metadata": {},
     "output_type": "execute_result"
    }
   ],
   "source": [
    "gnb.fit(X_train,y_train)"
   ]
  },
  {
   "cell_type": "code",
   "execution_count": 20,
   "metadata": {
    "collapsed": false
   },
   "outputs": [
    {
     "name": "stdout",
     "output_type": "stream",
     "text": [
      "Prediction Accuracy,  93.1034482759 %\n",
      "Cross Validation Score : 97.716256102 %\n"
     ]
    }
   ],
   "source": [
    "print \"Prediction Accuracy, \",gnb.score(X_test,y_test)*100,\"%\"\n",
    "\n",
    "scores = cross_val_score(gnb,X_train,y_train, cv=27)\n",
    "print \"Cross Validation Score :\",scores.mean()*100,\"%\""
   ]
  },
  {
   "cell_type": "markdown",
   "metadata": {},
   "source": [
    "<h1>Lets try KNN</h1>"
   ]
  },
  {
   "cell_type": "code",
   "execution_count": 21,
   "metadata": {
    "collapsed": false
   },
   "outputs": [
    {
     "name": "stdout",
     "output_type": "stream",
     "text": [
      "Prediction Accuracy,  74.1379310345 %\n",
      "Cross Validation Score : 83.9071172172 %\n"
     ]
    }
   ],
   "source": [
    "from sklearn.neighbors import KNeighborsClassifier\n",
    "knn=KNeighborsClassifier(n_neighbors=35)\n",
    "knn.fit(X_train,y_train)\n",
    "print \"Prediction Accuracy, \",knn.score(X_test,y_test)*100,\"%\"\n",
    "\n",
    "\n",
    "scores = cross_val_score(knn,X_train,y_train, cv=27)\n",
    "print \"Cross Validation Score :\",scores.mean()*100,\"%\""
   ]
  },
  {
   "cell_type": "code",
   "execution_count": 22,
   "metadata": {
    "collapsed": false
   },
   "outputs": [
    {
     "name": "stdout",
     "output_type": "stream",
     "text": [
      "example prediction:Jackal's position\n",
      "['BSC80:20_MHBD_AnuComplx_WL2033A']\n",
      "\n",
      "\n",
      "\n",
      "example prediction:Jackal's position\n",
      "['BSC80:20_MHBD_AnuComplx_WL2033A']\n"
     ]
    },
    {
     "name": "stderr",
     "output_type": "stream",
     "text": [
      "/home/siddharth/miniconda2/lib/python2.7/site-packages/sklearn/utils/validation.py:395: DeprecationWarning: Passing 1d arrays as data is deprecated in 0.17 and will raise ValueError in 0.19. Reshape your data either using X.reshape(-1, 1) if your data has a single feature or X.reshape(1, -1) if it contains a single sample.\n",
      "  DeprecationWarning)\n",
      "/home/siddharth/miniconda2/lib/python2.7/site-packages/sklearn/utils/validation.py:395: DeprecationWarning: Passing 1d arrays as data is deprecated in 0.17 and will raise ValueError in 0.19. Reshape your data either using X.reshape(-1, 1) if your data has a single feature or X.reshape(1, -1) if it contains a single sample.\n",
      "  DeprecationWarning)\n"
     ]
    }
   ],
   "source": [
    "print \"example prediction:Jackal's position\"\n",
    "print lb_make.inverse_transform(knn.predict(X_train[6]))\n",
    "print \"\\n\\n\"\n",
    "\n",
    "print \"example prediction:Jackal's position\"\n",
    "print lb_make.inverse_transform(knn.predict(X_test[7]))"
   ]
  },
  {
   "cell_type": "markdown",
   "metadata": {},
   "source": [
    "Both KNN and SVM have predicted the same value for trial"
   ]
  },
  {
   "cell_type": "code",
   "execution_count": 23,
   "metadata": {
    "collapsed": false
   },
   "outputs": [
    {
     "data": {
      "text/plain": [
       "LogisticRegression(C=5000, class_weight=None, dual=False, fit_intercept=True,\n",
       "          intercept_scaling=1, max_iter=100, multi_class='ovr', n_jobs=1,\n",
       "          penalty='l2', random_state=None, solver='liblinear', tol=0.0001,\n",
       "          verbose=0, warm_start=False)"
      ]
     },
     "execution_count": 23,
     "metadata": {},
     "output_type": "execute_result"
    }
   ],
   "source": [
    "from sklearn import linear_model\n",
    "logistic = linear_model.LogisticRegression(C=5000)\n",
    "logistic.fit(X_train,y_train)"
   ]
  },
  {
   "cell_type": "code",
   "execution_count": 24,
   "metadata": {
    "collapsed": false
   },
   "outputs": [
    {
     "name": "stdout",
     "output_type": "stream",
     "text": [
      "prediction accuracy 72.4137931034  %\n",
      "Cross Validation Score : 77.0894402096 %\n"
     ]
    }
   ],
   "source": [
    "print \"prediction accuracy\",logistic.score(X_test,y_test)*100,\" %\"\n",
    "\n",
    "scores = cross_val_score(logistic,X_train,y_train, cv=27)\n",
    "print \"Cross Validation Score :\",scores.mean()*100,\"%\""
   ]
  },
  {
   "cell_type": "markdown",
   "metadata": {},
   "source": [
    "# FINAL RESULTS\n",
    "\n",
    "## SVM\n",
    "1. Test score:96.5%\n",
    "2. Cross Validation:98.25%\n",
    "\n",
    "## Naive Bayes\n",
    "1. Test score:93%\n",
    "2. Cross Validation:97%\n",
    "\n",
    "## KNN\n",
    "1. Test score:74%\n",
    "2. Cross Validation:83%\n",
    "\n",
    "## Logistic Regression\n",
    "1. Test score:72.43%\n",
    "2. Cross Validation:77.08%"
   ]
  },
  {
   "cell_type": "markdown",
   "metadata": {},
   "source": [
    "## SVM has the highest test accuracy as well as cross validation Score.\n",
    "## even Naive Bayes is preforming good"
   ]
  }
 ],
 "metadata": {
  "kernelspec": {
   "display_name": "Python 2",
   "language": "python",
   "name": "python2"
  },
  "language_info": {
   "codemirror_mode": {
    "name": "ipython",
    "version": 2
   },
   "file_extension": ".py",
   "mimetype": "text/x-python",
   "name": "python",
   "nbconvert_exporter": "python",
   "pygments_lexer": "ipython2",
   "version": "2.7.13"
  }
 },
 "nbformat": 4,
 "nbformat_minor": 2
}
