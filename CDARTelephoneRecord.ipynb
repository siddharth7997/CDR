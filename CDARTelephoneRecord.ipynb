{
 "cells": [
  {
   "cell_type": "code",
   "execution_count": 404,
   "metadata": {
    "collapsed": true
   },
   "outputs": [],
   "source": [
    "#to find some kind of geogrphical pattern for a person in some are\n",
    "#source:CDR Data"
   ]
  },
  {
   "cell_type": "code",
   "execution_count": 405,
   "metadata": {
    "collapsed": true
   },
   "outputs": [],
   "source": [
    "import pandas as pd\n",
    "import numpy as np"
   ]
  },
  {
   "cell_type": "code",
   "execution_count": 406,
   "metadata": {
    "collapsed": false
   },
   "outputs": [
    {
     "name": "stdout",
     "output_type": "stream",
     "text": [
      "Index([u'NICKNAME', u'STARTDATE', u'STARTTIME', u'AREADESCRIPTION'], dtype='object')\n",
      "  NICKNAME   STARTDATE   STARTTIME                  AREADESCRIPTION\n",
      "0   Jackal  01/01/2014  5:40:06 AM  BSC80:20_MHBD_AnuComplx_WL2033A\n",
      "1   Jackal  01/01/2014  5:51:43 AM  BSC80:20_MHBD_AnuComplx_WL2033A\n",
      "2   Jackal  01/01/2014  7:13:29 AM  BSC80:20_MHBD_AnuComplx_WL2033A\n",
      "3   Jackal  01/01/2014  2:31:08 PM  BSC80:20_MHBD_AnuComplx_WL2033A\n",
      "4   Jackal  01/01/2014  2:40:11 PM  BSC80:20_MHBD_AnuComplx_WL2033A\n"
     ]
    }
   ],
   "source": [
    "data = pd.read_csv(\"tryit.csv\", sep = \",\")\n",
    "#print data.head()\n",
    "#eliminating useless information\n",
    "data=data.drop(['OTHER','PHONE','TYPE','DURATION','IMEINUMBER','OTYPE','AZIMUTH','OPERATOR','CELLTOWERID','STATE','LAT','LONG'],axis=1)\n",
    "print data.columns\n",
    "print data.head()"
   ]
  },
  {
   "cell_type": "code",
   "execution_count": 407,
   "metadata": {
    "collapsed": false
   },
   "outputs": [
    {
     "name": "stdout",
     "output_type": "stream",
     "text": [
      "['Jackal' 'Red Fox' 'King Pin' 'Blackbeard' 'Peacock']\n"
     ]
    }
   ],
   "source": [
    "#unique candidates in data\n",
    "print data.NICKNAME.unique()"
   ]
  },
  {
   "cell_type": "markdown",
   "metadata": {},
   "source": [
    "<h1>Models to predict <i>JACKAL's</i> LOCATION</h1>"
   ]
  },
  {
   "cell_type": "code",
   "execution_count": 408,
   "metadata": {
    "collapsed": false
   },
   "outputs": [
    {
     "name": "stdout",
     "output_type": "stream",
     "text": [
      "distinct Location visited by Jackal::\n",
      "                    AREADESCRIPTION        LAT       LONG\n",
      "0   BSC80:20_MHBD_AnuComplx_WL2033A  17.603528  80.004778\n",
      "8         BSC80:33_Parakala_WL2039A  18.194083  79.701111\n",
      "11  BSC80:57_MHBD_GovtHsptl_WL2079A  17.594444  80.001694\n",
      "12   BSC80:21_MHBD_TeleExge_WL2003A  17.596361  79.995222\n",
      "18   BSC01:32_Apparajupally_WL2138B    17.7142     79.995\n"
     ]
    }
   ],
   "source": [
    "#print data[['AREADESCRIPTION','LAT','LONG']].drop_duplicates()\n",
    "mew=data.loc[data['NICKNAME']=='Jackal'].loc[data['AREADESCRIPTION']!='NOT AVAILABLE']\n",
    "print \"distinct Location visited by Jackal::\\n\",location_jack.head()"
   ]
  },
  {
   "cell_type": "code",
   "execution_count": 409,
   "metadata": {
    "collapsed": false
   },
   "outputs": [],
   "source": [
    "from datetime import date\n",
    "import calendar\n",
    "import re\n",
    "mew['TIME']='__'\n",
    "mew['DAY']='__'\n",
    "#print mew\n",
    "for index, row in mew.iterrows():\n",
    "    #print row['STARTDATE']\n",
    "    d,m,y=map(int,row['STARTDATE'].split('/'))\n",
    "    #print date(y,m,d).weekday()\n",
    "    row['DAY']=date(y,m,d).weekday()\n",
    "    g=re.split(':| ',row['STARTTIME'])\n",
    "    if g[3]=='AM' and g[0]!='12':\n",
    "        row['TIME']=int(g[0])\n",
    "        \n",
    "    elif g[3]=='AM' and g[0]=='12':\n",
    "        row['TIME']=0\n",
    "        \n",
    "    elif g[3]=='PM' and g[0]=='12':\n",
    "        row['TIME']=12\n",
    "        \n",
    "    else:\n",
    "        row['TIME']=int(g[0])+12        \n",
    "    \n"
   ]
  },
  {
   "cell_type": "code",
   "execution_count": 410,
   "metadata": {
    "collapsed": false
   },
   "outputs": [
    {
     "name": "stdout",
     "output_type": "stream",
     "text": [
      "   NICKNAME   STARTDATE    STARTTIME                  AREADESCRIPTION TIME DAY\n",
      "0    Jackal  01/01/2014   5:40:06 AM  BSC80:20_MHBD_AnuComplx_WL2033A    5   2\n",
      "1    Jackal  01/01/2014   5:51:43 AM  BSC80:20_MHBD_AnuComplx_WL2033A    5   2\n",
      "2    Jackal  01/01/2014   7:13:29 AM  BSC80:20_MHBD_AnuComplx_WL2033A    7   2\n",
      "3    Jackal  01/01/2014   2:31:08 PM  BSC80:20_MHBD_AnuComplx_WL2033A   14   2\n",
      "4    Jackal  01/01/2014   2:40:11 PM  BSC80:20_MHBD_AnuComplx_WL2033A   14   2\n",
      "5    Jackal  01/01/2014   7:26:21 PM  BSC80:20_MHBD_AnuComplx_WL2033A   19   2\n",
      "6    Jackal  02/01/2014   6:34:54 AM  BSC80:20_MHBD_AnuComplx_WL2033A    6   3\n",
      "7    Jackal  02/01/2014   8:00:50 AM  BSC80:20_MHBD_AnuComplx_WL2033A    8   3\n",
      "8    Jackal  02/01/2014   7:46:02 PM        BSC80:33_Parakala_WL2039A   19   3\n",
      "9    Jackal  02/01/2014   7:47:57 PM        BSC80:33_Parakala_WL2039A   19   3\n",
      "10   Jackal  03/01/2014   7:39:20 AM  BSC80:20_MHBD_AnuComplx_WL2033A    7   4\n",
      "11   Jackal  03/01/2014  10:33:46 AM  BSC80:57_MHBD_GovtHsptl_WL2079A   10   4\n",
      "12   Jackal  03/01/2014   4:22:59 PM   BSC80:21_MHBD_TeleExge_WL2003A   16   4\n",
      "13   Jackal  03/01/2014   7:52:44 PM  BSC80:57_MHBD_GovtHsptl_WL2079A   19   4\n",
      "14   Jackal  03/01/2014  10:48:01 PM  BSC80:20_MHBD_AnuComplx_WL2033A   22   4\n"
     ]
    }
   ],
   "source": [
    "print mew[:15]"
   ]
  },
  {
   "cell_type": "code",
   "execution_count": 411,
   "metadata": {
    "collapsed": false
   },
   "outputs": [],
   "source": [
    "mew=mew.drop(['STARTDATE','STARTTIME','NICKNAME'],axis=1)\n",
    "mew=mew[['DAY','TIME','AREADESCRIPTION']]"
   ]
  },
  {
   "cell_type": "code",
   "execution_count": 477,
   "metadata": {
    "collapsed": false
   },
   "outputs": [
    {
     "name": "stdout",
     "output_type": "stream",
     "text": [
      "  DAY TIME  AREADESCRIPTION\n",
      "0   2    5               26\n",
      "1   2    5               26\n",
      "2   2    7               26\n",
      "3   2   14               26\n",
      "4   2   14               26\n"
     ]
    }
   ],
   "source": [
    "#deleted additional features....... like date,time bcoz we already got genaralised \n",
    "print mew.head()"
   ]
  },
  {
   "cell_type": "code",
   "execution_count": 413,
   "metadata": {
    "collapsed": true
   },
   "outputs": [],
   "source": [
    "from IPython.core.display import HTML"
   ]
  },
  {
   "cell_type": "markdown",
   "metadata": {},
   "source": [
    "<h1>done with preprocessing </h1>"
   ]
  },
  {
   "cell_type": "code",
   "execution_count": 414,
   "metadata": {
    "collapsed": false
   },
   "outputs": [
    {
     "name": "stdout",
     "output_type": "stream",
     "text": [
      "BSC80:20_MHBD_AnuComplx_WL2033A       324\n",
      "BSC80:57_MHBD_GovtHsptl_WL2079A        64\n",
      "BSC80:21_MHBD_TeleExge_WL2003A         20\n",
      "BSC77:09_TNGOBLDG_WL2114A              14\n",
      "BSC80:38_Kothaguda_WL2076A             14\n",
      "BSC80:26_Gudur_WL2028A                 13\n",
      "BSC80:51_Narsampet2_WL2084A            13\n",
      "BSC80:28_NarsampetaTE_WL2004A          11\n",
      "BSC77:18_Tadwai_HW_WL2045A              9\n",
      "BSC77:20_Medaram_EM_WL2251B             9\n",
      "BSC77:23_Tirumalagandi_WL2135B          9\n",
      "BSC77:02_Kambhalapalle_WL2168B          8\n",
      "BSC80:17_Mulugu_TE_WL2035A              8\n",
      "BSC80:36_Khanapur_WL2074A               6\n",
      "BSC01:32_Apparajupally_WL2138B          6\n",
      "BSC80:08_Pasra_WL2041A                  4\n",
      "BSC80:56_MondraiH2M_WL2264C             4\n",
      "BSC01:33_Ootai_WL2198A                  4\n",
      "BSC77:14_EturnagaramBS_WL2228A          3\n",
      "BSC77:28_Kesamudram_vlg_WL2136C         2\n",
      "BSC72:28_Laxettpet_AD2014A              2\n",
      "BSC80:59_Mallampalle_WL2257B            2\n",
      "BSC77:25_MDRM_Jakaram_WL2274C           2\n",
      "BSC77:19_Narlapur_WL2252A               2\n",
      "BSC80:43_Chelwai_WL2062A                2\n",
      "BSC77:10_Mangapet_WL2034A               2\n",
      "BSC80:47_Thorrur2_NB_WL2109A            2\n",
      "BSC80:33_Parakala_WL2039A               2\n",
      "BSC72:02_MNCL_DTO_AD2038A               1\n",
      "BSC80:41_Nallabelly_WL2083B             1\n",
      "BSC80:60_Oorugonda_WL2256C              1\n",
      "BSC80:13_Atmakur_WL2046C                1\n",
      "BSC80:35_Girnibavi_WL2068B              1\n",
      "BSC01:11_Papaiahpeta_WL2200B            1\n",
      "BSC77:07_Enugal_WL2152C:                1\n",
      "BSC72:43_Srirampur_AD2046A              1\n",
      "111_17433_Koyyur_PS_KA2112, AP          1\n",
      "BSC01:19_Muripirala_WL2184C             1\n",
      "BSC80:42_Venkatapur_WL2093C             1\n",
      "BSC77:22_Edullapalli_WL2134C            1\n",
      "BSC17:06_WGL_ReddyClny_WL2021A          1\n",
      "111_18951_Manthani_VIOM_KA5015, AP      1\n",
      "BSC80:24_Kesamudram_WL2019A             1\n",
      "BSC17:18_WGL_JayaHosptl_WL2050A         1\n",
      "Name: AREADESCRIPTION, dtype: int64\n"
     ]
    }
   ],
   "source": [
    "print mew['AREADESCRIPTION'].value_counts()"
   ]
  },
  {
   "cell_type": "code",
   "execution_count": 415,
   "metadata": {
    "collapsed": false
   },
   "outputs": [
    {
     "name": "stdout",
     "output_type": "stream",
     "text": [
      "  DAY TIME  AREADESCRIPTION\n",
      "0   2    5               26\n",
      "1   2    5               26\n",
      "2   2    7               26\n",
      "3   2   14               26\n",
      "4   2   14               26\n"
     ]
    }
   ],
   "source": [
    "from sklearn.preprocessing import LabelEncoder\n",
    "\n",
    "lb_make = LabelEncoder()\n",
    "\n",
    "mew['AREADESCRIPTION']=lb_make.fit_transform(mew['AREADESCRIPTION'])\n",
    "print mew.head()\n",
    "\n",
    "X=mew[['DAY','TIME']].values\n",
    "#print type(X)\n",
    "y=mew['AREADESCRIPTION'].values\n",
    "#print type(y)"
   ]
  },
  {
   "cell_type": "markdown",
   "metadata": {},
   "source": [
    "<h1>Lets start with Support Vector Machine<h2>\n"
   ]
  },
  {
   "cell_type": "code",
   "execution_count": 416,
   "metadata": {
    "collapsed": false
   },
   "outputs": [],
   "source": [
    "from sklearn import svm\n",
    "clf=svm.SVC(gamma=0.05, C=15)"
   ]
  },
  {
   "cell_type": "code",
   "execution_count": 417,
   "metadata": {
    "collapsed": true
   },
   "outputs": [],
   "source": [
    "from sklearn.model_selection import train_test_split\n",
    "X_train, X_test, y_train, y_test = train_test_split(X, y, test_size=0.20, random_state=42)"
   ]
  },
  {
   "cell_type": "code",
   "execution_count": 418,
   "metadata": {
    "collapsed": false
   },
   "outputs": [
    {
     "name": "stdout",
     "output_type": "stream",
     "text": [
      "Cross Validation Score : 69.3495679569 %\n"
     ]
    }
   ],
   "source": [
    "from sklearn.model_selection import cross_val_score\n",
    "\n",
    "scores = cross_val_score(clf,X_train,y_train, cv=27)\n",
    "print \"Cross Validation Score :\",scores.mean()*100,\"%\""
   ]
  },
  {
   "cell_type": "code",
   "execution_count": 419,
   "metadata": {
    "collapsed": false
   },
   "outputs": [
    {
     "name": "stdout",
     "output_type": "stream",
     "text": [
      "Test score, 0.620689655172 %\n"
     ]
    }
   ],
   "source": [
    "clf.fit(X_train,y_train)\n",
    "print \"Test score,\",clf.score(X_test,y_test),\"%\""
   ]
  },
  {
   "cell_type": "markdown",
   "metadata": {},
   "source": [
    "<h1>Example Prediction Using SVM</h1>"
   ]
  },
  {
   "cell_type": "code",
   "execution_count": 420,
   "metadata": {
    "collapsed": false
   },
   "outputs": [
    {
     "name": "stdout",
     "output_type": "stream",
     "text": [
      "example prediction:Jackal's position on Monday,7 pm\n",
      "BSC80:20_MHBD_AnuComplx_WL2033A\n",
      "\n",
      "\n",
      "\n",
      "example prediction:Jackal's position on Thursday,2 pm\n",
      "BSC80:57_MHBD_GovtHsptl_WL2079A\n"
     ]
    },
    {
     "name": "stderr",
     "output_type": "stream",
     "text": [
      "/home/siddharth/miniconda2/lib/python2.7/site-packages/sklearn/utils/validation.py:395: DeprecationWarning: Passing 1d arrays as data is deprecated in 0.17 and will raise ValueError in 0.19. Reshape your data either using X.reshape(-1, 1) if your data has a single feature or X.reshape(1, -1) if it contains a single sample.\n",
      "  DeprecationWarning)\n",
      "/home/siddharth/miniconda2/lib/python2.7/site-packages/sklearn/utils/validation.py:395: DeprecationWarning: Passing 1d arrays as data is deprecated in 0.17 and will raise ValueError in 0.19. Reshape your data either using X.reshape(-1, 1) if your data has a single feature or X.reshape(1, -1) if it contains a single sample.\n",
      "  DeprecationWarning)\n"
     ]
    }
   ],
   "source": [
    "import numpy\n",
    "print \"example prediction:Jackal's position on Monday,7 pm\"\n",
    "a=numpy.asarray([1,19])\n",
    "print lb_make.inverse_transform(clf.predict(a))[0]\n",
    "print \"\\n\\n\"\n",
    "\n",
    "print \"example prediction:Jackal's position on Thursday,2 pm\"\n",
    "a=numpy.asarray([4,14])\n",
    "print lb_make.inverse_transform(clf.predict(a))[0]"
   ]
  },
  {
   "cell_type": "markdown",
   "metadata": {},
   "source": [
    "<h1>Lets try Naive Bayes</h1>"
   ]
  },
  {
   "cell_type": "code",
   "execution_count": 458,
   "metadata": {
    "collapsed": true
   },
   "outputs": [],
   "source": [
    "from sklearn.naive_bayes import GaussianNB\n",
    "gnb = GaussianNB()"
   ]
  },
  {
   "cell_type": "code",
   "execution_count": 459,
   "metadata": {
    "collapsed": false
   },
   "outputs": [
    {
     "data": {
      "text/plain": [
       "GaussianNB(priors=None)"
      ]
     },
     "execution_count": 459,
     "metadata": {},
     "output_type": "execute_result"
    }
   ],
   "source": [
    "gnb.fit(X_train,y_train)"
   ]
  },
  {
   "cell_type": "code",
   "execution_count": 491,
   "metadata": {
    "collapsed": false
   },
   "outputs": [
    {
     "name": "stdout",
     "output_type": "stream",
     "text": [
      "Prediction Accuracy,  50.0 %\n",
      "Cross Validation Score : 48.7337960442 %\n"
     ]
    }
   ],
   "source": [
    "print \"Prediction Accuracy, \",gnb.score(X_test,y_test)*100,\"%\"\n",
    "\n",
    "scores = cross_val_score(gnb,X_train,y_train, cv=27)\n",
    "print \"Cross Validation Score :\",scores.mean()*100,\"%\""
   ]
  },
  {
   "cell_type": "markdown",
   "metadata": {},
   "source": [
    "<h1>Lets try KNN</h1>"
   ]
  },
  {
   "cell_type": "code",
   "execution_count": 492,
   "metadata": {
    "collapsed": false
   },
   "outputs": [
    {
     "name": "stdout",
     "output_type": "stream",
     "text": [
      "Prediction Accuracy,  65.5172413793 %\n",
      "Cross Validation Score : 68.7114625637 %\n"
     ]
    }
   ],
   "source": [
    "from sklearn.neighbors import KNeighborsClassifier\n",
    "knn=KNeighborsClassifier(n_neighbors=35)\n",
    "knn.fit(X_train,y_train)\n",
    "print \"Prediction Accuracy, \",knn.score(X_test,y_test)*100,\"%\"\n",
    "\n",
    "\n",
    "scores = cross_val_score(knn,X_train,y_train, cv=27)\n",
    "print \"Cross Validation Score :\",scores.mean()*100,\"%\""
   ]
  },
  {
   "cell_type": "code",
   "execution_count": 478,
   "metadata": {
    "collapsed": false
   },
   "outputs": [
    {
     "name": "stdout",
     "output_type": "stream",
     "text": [
      "example prediction:Jackal's position on Monday,7 pm\n",
      "BSC80:20_MHBD_AnuComplx_WL2033A\n",
      "\n",
      "\n",
      "\n",
      "example prediction:Jackal's position on Thursday,2 pm\n",
      "BSC80:57_MHBD_GovtHsptl_WL2079A\n"
     ]
    },
    {
     "name": "stderr",
     "output_type": "stream",
     "text": [
      "/home/siddharth/miniconda2/lib/python2.7/site-packages/sklearn/utils/validation.py:395: DeprecationWarning: Passing 1d arrays as data is deprecated in 0.17 and will raise ValueError in 0.19. Reshape your data either using X.reshape(-1, 1) if your data has a single feature or X.reshape(1, -1) if it contains a single sample.\n",
      "  DeprecationWarning)\n",
      "/home/siddharth/miniconda2/lib/python2.7/site-packages/sklearn/utils/validation.py:395: DeprecationWarning: Passing 1d arrays as data is deprecated in 0.17 and will raise ValueError in 0.19. Reshape your data either using X.reshape(-1, 1) if your data has a single feature or X.reshape(1, -1) if it contains a single sample.\n",
      "  DeprecationWarning)\n"
     ]
    }
   ],
   "source": [
    "print \"example prediction:Jackal's position on Monday,7 pm\"\n",
    "a=numpy.asarray([1,19])\n",
    "print lb_make.inverse_transform(knn.predict(a))[0]\n",
    "print \"\\n\\n\"\n",
    "\n",
    "print \"example prediction:Jackal's position on Thursday,2 pm\"\n",
    "a=numpy.asarray([4,14])\n",
    "print lb_make.inverse_transform(knn.predict(a))[0]"
   ]
  },
  {
   "cell_type": "markdown",
   "metadata": {},
   "source": [
    "Both KNN and SVM have predicted the same value for trial"
   ]
  },
  {
   "cell_type": "code",
   "execution_count": 485,
   "metadata": {
    "collapsed": false
   },
   "outputs": [
    {
     "data": {
      "text/plain": [
       "LogisticRegression(C=5000, class_weight=None, dual=False, fit_intercept=True,\n",
       "          intercept_scaling=1, max_iter=100, multi_class='ovr', n_jobs=1,\n",
       "          penalty='l2', random_state=None, solver='liblinear', tol=0.0001,\n",
       "          verbose=0, warm_start=False)"
      ]
     },
     "execution_count": 485,
     "metadata": {},
     "output_type": "execute_result"
    }
   ],
   "source": [
    "from sklearn import linear_model\n",
    "logistic = linear_model.LogisticRegression(C=5000)\n",
    "logistic.fit(X_train,y_train)"
   ]
  },
  {
   "cell_type": "code",
   "execution_count": 496,
   "metadata": {
    "collapsed": false
   },
   "outputs": [
    {
     "name": "stdout",
     "output_type": "stream",
     "text": [
      "prediction accuracy 58.6206896552  %\n",
      "Cross Validation Score : 64.845082409 %\n"
     ]
    }
   ],
   "source": [
    "print \"prediction accuracy\",logistic.score(X_test,y_test)*100,\" %\"\n",
    "\n",
    "scores = cross_val_score(logistic,X_train,y_train, cv=27)\n",
    "print \"Cross Validation Score :\",scores.mean()*100,\"%\""
   ]
  },
  {
   "cell_type": "markdown",
   "metadata": {},
   "source": [
    "<h1><center>FINAL RESULT</center><br>\n",
    "</h1>\n",
    "SVM=>test:62% cross validation:69.34%\n",
    "<br>KNN=>test:65% cross validation:69%\n",
    "<br>Logistic Regression=>test:58% cross validation:65%\n",
    "<br>Naive Bayes=>test:50% cross validation:48%\n"
   ]
  },
  {
   "cell_type": "markdown",
   "metadata": {},
   "source": [
    "KNN has the highest test accuracy and good cross validation Score."
   ]
  }
 ],
 "metadata": {
  "kernelspec": {
   "display_name": "Python 2",
   "language": "python",
   "name": "python2"
  },
  "language_info": {
   "codemirror_mode": {
    "name": "ipython",
    "version": 2
   },
   "file_extension": ".py",
   "mimetype": "text/x-python",
   "name": "python",
   "nbconvert_exporter": "python",
   "pygments_lexer": "ipython2",
   "version": "2.7.13"
  }
 },
 "nbformat": 4,
 "nbformat_minor": 2
}
